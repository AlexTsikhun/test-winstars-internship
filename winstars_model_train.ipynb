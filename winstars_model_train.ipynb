{
 "cells": [
  {
   "cell_type": "code",
   "execution_count": 1,
   "id": "ee645133",
   "metadata": {
    "execution": {
     "iopub.execute_input": "2022-08-22T08:27:59.032207Z",
     "iopub.status.busy": "2022-08-22T08:27:59.029409Z",
     "iopub.status.idle": "2022-08-22T08:28:08.379281Z",
     "shell.execute_reply": "2022-08-22T08:28:08.377862Z"
    },
    "papermill": {
     "duration": 9.364282,
     "end_time": "2022-08-22T08:28:08.382591",
     "exception": false,
     "start_time": "2022-08-22T08:27:59.018309",
     "status": "completed"
    },
    "tags": []
   },
   "outputs": [],
   "source": [
    "import numpy as np\n",
    "import pandas as pd\n",
    "\n",
    "from matplotlib import pyplot as plt\n",
    "import tensorflow as tf\n",
    "\n",
    "# from keras.preprocessing.image import load_img\n",
    "\n",
    "import keras.backend as K\n",
    "from tensorflow.keras.callbacks import LearningRateScheduler, ModelCheckpoint, EarlyStopping\n",
    "\n",
    "from tensorflow.keras.models import Model\n",
    "from tensorflow.keras.layers import Input, concatenate, Conv2D, MaxPooling2D, Activation, UpSampling2D, BatchNormalization\n",
    "\n",
    "from skimage.io import imread\n",
    "from skimage.transform import resize\n",
    "from sklearn.model_selection import train_test_split\n",
    "\n",
    "# Load truncated iamges https://www.kaggle.com/c/airbus-ship-detection/discussion/62574#latest-445141\n",
    "from PIL import ImageFile\n",
    "ImageFile.LOAD_TRUNCATED_IMAGES = True\n",
    "\n",
    "import warnings\n",
    "warnings.filterwarnings('ignore')\n",
    "\n",
    "import os"
   ]
  },
  {
   "cell_type": "code",
   "execution_count": 2,
   "id": "61d3bc7c",
   "metadata": {
    "execution": {
     "iopub.execute_input": "2022-08-22T08:28:08.399514Z",
     "iopub.status.busy": "2022-08-22T08:28:08.398068Z",
     "iopub.status.idle": "2022-08-22T08:28:08.409713Z",
     "shell.execute_reply": "2022-08-22T08:28:08.407283Z"
    },
    "papermill": {
     "duration": 0.023972,
     "end_time": "2022-08-22T08:28:08.414007",
     "exception": false,
     "start_time": "2022-08-22T08:28:08.390035",
     "status": "completed"
    },
    "tags": []
   },
   "outputs": [
    {
     "name": "stdout",
     "output_type": "stream",
     "text": [
      "['test_v2', 'sample_submission_v2.csv', 'train_ship_segmentations_v2.csv', 'train_v2']\n"
     ]
    }
   ],
   "source": [
    "print(os.listdir(\"../input/airbus-ship-detection/\"))"
   ]
  },
  {
   "cell_type": "code",
   "execution_count": 3,
   "id": "e1358ce1",
   "metadata": {
    "execution": {
     "iopub.execute_input": "2022-08-22T08:28:08.431102Z",
     "iopub.status.busy": "2022-08-22T08:28:08.430710Z",
     "iopub.status.idle": "2022-08-22T08:28:08.438303Z",
     "shell.execute_reply": "2022-08-22T08:28:08.436772Z"
    },
    "papermill": {
     "duration": 0.01972,
     "end_time": "2022-08-22T08:28:08.441124",
     "exception": false,
     "start_time": "2022-08-22T08:28:08.421404",
     "status": "completed"
    },
    "tags": []
   },
   "outputs": [],
   "source": [
    "IMG_WIDTH = 768\n",
    "IMG_HEIGHT = 768\n",
    "IMG_CHANNELS = 3\n",
    "TARGET_WIDTH = 128\n",
    "TARGET_HEIGHT = 128\n",
    "epochs=10\n",
    "batch_size=32\n",
    "image_shape=(768, 768)\n",
    "FAST_RUN=True # use for development only\n",
    "FAST_PREDICTION=True # use for development only"
   ]
  },
  {
   "cell_type": "code",
   "execution_count": 4,
   "id": "1da9da77",
   "metadata": {
    "execution": {
     "iopub.execute_input": "2022-08-22T08:28:08.458223Z",
     "iopub.status.busy": "2022-08-22T08:28:08.456273Z",
     "iopub.status.idle": "2022-08-22T08:28:09.738992Z",
     "shell.execute_reply": "2022-08-22T08:28:09.737631Z"
    },
    "papermill": {
     "duration": 1.294832,
     "end_time": "2022-08-22T08:28:09.743033",
     "exception": false,
     "start_time": "2022-08-22T08:28:08.448201",
     "status": "completed"
    },
    "tags": []
   },
   "outputs": [],
   "source": [
    "df = pd.read_csv('../input/airbus-ship-detection/train_ship_segmentations_v2.csv')\n",
    "df_sub = pd.read_csv('../input/airbus-ship-detection/sample_submission_v2.csv')"
   ]
  },
  {
   "cell_type": "code",
   "execution_count": 5,
   "id": "b3c84ef6",
   "metadata": {
    "execution": {
     "iopub.execute_input": "2022-08-22T08:28:09.770250Z",
     "iopub.status.busy": "2022-08-22T08:28:09.769544Z",
     "iopub.status.idle": "2022-08-22T08:28:09.791702Z",
     "shell.execute_reply": "2022-08-22T08:28:09.790358Z"
    },
    "papermill": {
     "duration": 0.039543,
     "end_time": "2022-08-22T08:28:09.795413",
     "exception": false,
     "start_time": "2022-08-22T08:28:09.755870",
     "status": "completed"
    },
    "tags": []
   },
   "outputs": [],
   "source": [
    "# ref: https://www.kaggle.com/paulorzp/run-length-encode-and-decode\n",
    "no_mask = np.zeros(image_shape[0]*image_shape[1], dtype=np.uint8)\n",
    "def rle_encode(img):\n",
    "    '''\n",
    "    img: numpy array, 1 - mask, 0 - background\n",
    "    Returns run length as string formated\n",
    "    '''\n",
    "    pixels = img.flatten()\n",
    "    pixels = np.concatenate([[0], pixels, [0]])\n",
    "    runs = np.where(pixels[1:] != pixels[:-1])[0] + 1\n",
    "    runs[1::2] -= runs[::2]\n",
    "    rle = ' '.join(str(x) for x in runs)\n",
    "    return rle\n",
    "\n",
    "def rle_decode(mask_rle, shape=image_shape):\n",
    "    '''\n",
    "        mask_rle: run-length as string formated (start length)\n",
    "    shape: (height,width) of array to return \n",
    "    Returns numpy array, 1 - mask, 0 - background\n",
    "\n",
    "    '''\n",
    "    if pd.isnull(mask_rle):\n",
    "        img = no_mask\n",
    "        return img.reshape(shape).T\n",
    "    s = mask_rle.split()\n",
    "    starts, lengths = [np.asarray(x, dtype=int) for x in (s[0:][::2], s[1:][::2])]\n",
    "\n",
    "    starts -= 1\n",
    "    ends = starts + lengths\n",
    "    img = np.zeros(shape[0]*shape[1], dtype=np.uint8)\n",
    "    for lo, hi in zip(starts, ends):\n",
    "        img[lo:hi] = 1\n",
    "    return img.reshape(shape).T\n",
    "\n",
    "def dice_coef(y_true, y_pred, smooth=1):\n",
    "    intersection = K.sum(K.abs(y_true * y_pred), axis=-1)\n",
    "    return (2. * intersection + smooth) / (K.sum(K.square(y_true),-1) + K.sum(K.square(y_pred),-1) + smooth)"
   ]
  },
  {
   "cell_type": "code",
   "execution_count": 6,
   "id": "6894665c",
   "metadata": {
    "execution": {
     "iopub.execute_input": "2022-08-22T08:28:09.821330Z",
     "iopub.status.busy": "2022-08-22T08:28:09.820635Z",
     "iopub.status.idle": "2022-08-22T08:28:14.556603Z",
     "shell.execute_reply": "2022-08-22T08:28:14.555225Z"
    },
    "papermill": {
     "duration": 4.751999,
     "end_time": "2022-08-22T08:28:14.559542",
     "exception": false,
     "start_time": "2022-08-22T08:28:09.807543",
     "status": "completed"
    },
    "tags": []
   },
   "outputs": [
    {
     "name": "stderr",
     "output_type": "stream",
     "text": [
      "2022-08-22 08:28:10.016712: I tensorflow/stream_executor/cuda/cuda_gpu_executor.cc:937] successful NUMA node read from SysFS had negative value (-1), but there must be at least one NUMA node, so returning NUMA node zero\n",
      "2022-08-22 08:28:10.177108: I tensorflow/stream_executor/cuda/cuda_gpu_executor.cc:937] successful NUMA node read from SysFS had negative value (-1), but there must be at least one NUMA node, so returning NUMA node zero\n",
      "2022-08-22 08:28:10.181498: I tensorflow/stream_executor/cuda/cuda_gpu_executor.cc:937] successful NUMA node read from SysFS had negative value (-1), but there must be at least one NUMA node, so returning NUMA node zero\n",
      "2022-08-22 08:28:10.187216: I tensorflow/core/platform/cpu_feature_guard.cc:142] This TensorFlow binary is optimized with oneAPI Deep Neural Network Library (oneDNN) to use the following CPU instructions in performance-critical operations:  AVX2 FMA\n",
      "To enable them in other operations, rebuild TensorFlow with the appropriate compiler flags.\n",
      "2022-08-22 08:28:10.187817: I tensorflow/stream_executor/cuda/cuda_gpu_executor.cc:937] successful NUMA node read from SysFS had negative value (-1), but there must be at least one NUMA node, so returning NUMA node zero\n",
      "2022-08-22 08:28:10.192717: I tensorflow/stream_executor/cuda/cuda_gpu_executor.cc:937] successful NUMA node read from SysFS had negative value (-1), but there must be at least one NUMA node, so returning NUMA node zero\n",
      "2022-08-22 08:28:10.196964: I tensorflow/stream_executor/cuda/cuda_gpu_executor.cc:937] successful NUMA node read from SysFS had negative value (-1), but there must be at least one NUMA node, so returning NUMA node zero\n",
      "2022-08-22 08:28:13.389336: I tensorflow/stream_executor/cuda/cuda_gpu_executor.cc:937] successful NUMA node read from SysFS had negative value (-1), but there must be at least one NUMA node, so returning NUMA node zero\n",
      "2022-08-22 08:28:13.393480: I tensorflow/stream_executor/cuda/cuda_gpu_executor.cc:937] successful NUMA node read from SysFS had negative value (-1), but there must be at least one NUMA node, so returning NUMA node zero\n",
      "2022-08-22 08:28:13.397664: I tensorflow/stream_executor/cuda/cuda_gpu_executor.cc:937] successful NUMA node read from SysFS had negative value (-1), but there must be at least one NUMA node, so returning NUMA node zero\n",
      "2022-08-22 08:28:13.401685: I tensorflow/core/common_runtime/gpu/gpu_device.cc:1510] Created device /job:localhost/replica:0/task:0/device:GPU:0 with 15403 MB memory:  -> device: 0, name: Tesla P100-PCIE-16GB, pci bus id: 0000:00:04.0, compute capability: 6.0\n"
     ]
    }
   ],
   "source": [
    "inputs = Input((TARGET_WIDTH , TARGET_HEIGHT, IMG_CHANNELS))\n",
    "\n",
    "# 128\n",
    "\n",
    "down1 = Conv2D(64, (3, 3), padding='same')(inputs)\n",
    "down1 = BatchNormalization()(down1)\n",
    "down1 = Activation('relu')(down1)\n",
    "down1 = Conv2D(64, (3, 3), padding='same')(down1)\n",
    "down1 = BatchNormalization()(down1)\n",
    "down1 = Activation('relu')(down1)\n",
    "down1_pool = MaxPooling2D((2, 2), strides=(2, 2))(down1)\n",
    "# 64\n",
    "\n",
    "down2 = Conv2D(128, (3, 3), padding='same')(down1_pool)\n",
    "down2 = BatchNormalization()(down2)\n",
    "down2 = Activation('relu')(down2)\n",
    "down2 = Conv2D(128, (3, 3), padding='same')(down2)\n",
    "down2 = BatchNormalization()(down2)\n",
    "down2 = Activation('relu')(down2)\n",
    "down2_pool = MaxPooling2D((2, 2), strides=(2, 2))(down2)\n",
    "# 32\n",
    "down3 = Conv2D(256, (3, 3), padding='same')(down2_pool)\n",
    "down3 = BatchNormalization()(down3)\n",
    "down3 = Activation('relu')(down3)\n",
    "down3 = Conv2D(256, (3, 3), padding='same')(down3)\n",
    "down3 = BatchNormalization()(down3)\n",
    "down3 = Activation('relu')(down3)\n",
    "down3_pool = MaxPooling2D((2, 2), strides=(2, 2))(down3)\n",
    "# 16\n",
    "\n",
    "down4 = Conv2D(512, (3, 3), padding='same')(down3_pool)\n",
    "down4 = BatchNormalization()(down4)\n",
    "down4 = Activation('relu')(down4)\n",
    "down4 = Conv2D(512, (3, 3), padding='same')(down4)\n",
    "down4 = BatchNormalization()(down4)\n",
    "down4 = Activation('relu')(down4)\n",
    "down4_pool = MaxPooling2D((2, 2), strides=(2, 2))(down4)\n",
    "# 8\n",
    "center = Conv2D(1024, (3, 3), padding='same')(down4_pool)\n",
    "center = BatchNormalization()(center)\n",
    "center = Activation('relu')(center)\n",
    "center = Conv2D(1024, (3, 3), padding='same')(center)\n",
    "center = BatchNormalization()(center)\n",
    "center = Activation('relu')(center)\n",
    "# center\n",
    "\n",
    "up4 = UpSampling2D((2, 2))(center)\n",
    "up4 = concatenate([down4, up4], axis=3)\n",
    "up4 = Conv2D(512, (3, 3), padding='same')(up4)\n",
    "up4 = BatchNormalization()(up4)\n",
    "up4 = Activation('relu')(up4)\n",
    "up4 = Conv2D(512, (3, 3), padding='same')(up4)\n",
    "up4 = BatchNormalization()(up4)\n",
    "up4 = Activation('relu')(up4)\n",
    "up4 = Conv2D(512, (3, 3), padding='same')(up4)\n",
    "up4 = BatchNormalization()(up4)\n",
    "up4 = Activation('relu')(up4)\n",
    "# 16\n",
    "up3 = UpSampling2D((2, 2))(up4)\n",
    "up3 = concatenate([down3, up3], axis=3)\n",
    "up3 = Conv2D(256, (3, 3), padding='same')(up3)\n",
    "up3 = BatchNormalization()(up3)\n",
    "up3 = Activation('relu')(up3)\n",
    "up3 = Conv2D(256, (3, 3), padding='same')(up3)\n",
    "up3 = BatchNormalization()(up3)\n",
    "up3 = Activation('relu')(up3)\n",
    "up3 = Conv2D(256, (3, 3), padding='same')(up3)\n",
    "up3 = BatchNormalization()(up3)\n",
    "up3 = Activation('relu')(up3)\n",
    "# 32\n",
    "\n",
    "up2 = UpSampling2D((2, 2))(up3)\n",
    "up2 = concatenate([down2, up2], axis=3)\n",
    "up2 = Conv2D(128, (3, 3), padding='same')(up2)\n",
    "up2 = BatchNormalization()(up2)\n",
    "up2 = Activation('relu')(up2)\n",
    "up2 = Conv2D(128, (3, 3), padding='same')(up2)\n",
    "up2 = BatchNormalization()(up2)\n",
    "up2 = Activation('relu')(up2)\n",
    "up2 = Conv2D(128, (3, 3), padding='same')(up2)\n",
    "up2 = BatchNormalization()(up2)\n",
    "up2 = Activation('relu')(up2)\n",
    "# 64\n",
    "up1 = UpSampling2D((2, 2))(up2)\n",
    "up1 = concatenate([down1, up1], axis=3)\n",
    "up1 = Conv2D(64, (3, 3), padding='same')(up1)\n",
    "up1 = BatchNormalization()(up1)\n",
    "up1 = Activation('relu')(up1)\n",
    "up1 = Conv2D(64, (3, 3), padding='same')(up1)\n",
    "up1 = BatchNormalization()(up1)\n",
    "up1 = Activation('relu')(up1)\n",
    "up1 = Conv2D(64, (3, 3), padding='same')(up1)\n",
    "up1 = BatchNormalization()(up1)\n",
    "up1 = Activation('relu')(up1)\n",
    "# 128\n",
    "\n",
    "outputs = Conv2D(1, (1, 1), activation='sigmoid')(up1)\n",
    "\n",
    "model = Model(inputs=inputs, outputs=outputs)"
   ]
  },
  {
   "cell_type": "code",
   "execution_count": 7,
   "id": "b7e0afc7",
   "metadata": {
    "execution": {
     "iopub.execute_input": "2022-08-22T08:28:14.576236Z",
     "iopub.status.busy": "2022-08-22T08:28:14.575843Z",
     "iopub.status.idle": "2022-08-22T08:28:14.581958Z",
     "shell.execute_reply": "2022-08-22T08:28:14.580596Z"
    },
    "papermill": {
     "duration": 0.017865,
     "end_time": "2022-08-22T08:28:14.584598",
     "exception": false,
     "start_time": "2022-08-22T08:28:14.566733",
     "status": "completed"
    },
    "tags": []
   },
   "outputs": [],
   "source": [
    "optimizer = tf.keras.optimizers.RMSprop(1e-4)"
   ]
  },
  {
   "cell_type": "code",
   "execution_count": 8,
   "id": "66071804",
   "metadata": {
    "execution": {
     "iopub.execute_input": "2022-08-22T08:28:14.601293Z",
     "iopub.status.busy": "2022-08-22T08:28:14.599880Z",
     "iopub.status.idle": "2022-08-22T08:28:14.616315Z",
     "shell.execute_reply": "2022-08-22T08:28:14.615011Z"
    },
    "papermill": {
     "duration": 0.027455,
     "end_time": "2022-08-22T08:28:14.619231",
     "exception": false,
     "start_time": "2022-08-22T08:28:14.591776",
     "status": "completed"
    },
    "tags": []
   },
   "outputs": [],
   "source": [
    "model.compile(\n",
    "    optimizer=optimizer, \n",
    "    loss=\"binary_crossentropy\", \n",
    "    metrics=[dice_coef]\n",
    ")"
   ]
  },
  {
   "cell_type": "code",
   "execution_count": 9,
   "id": "d578b67a",
   "metadata": {
    "execution": {
     "iopub.execute_input": "2022-08-22T08:28:14.635505Z",
     "iopub.status.busy": "2022-08-22T08:28:14.634415Z",
     "iopub.status.idle": "2022-08-22T08:28:14.674166Z",
     "shell.execute_reply": "2022-08-22T08:28:14.672868Z"
    },
    "papermill": {
     "duration": 0.051045,
     "end_time": "2022-08-22T08:28:14.677307",
     "exception": false,
     "start_time": "2022-08-22T08:28:14.626262",
     "status": "completed"
    },
    "tags": []
   },
   "outputs": [],
   "source": [
    "# use for development to run it faster\n",
    "if FAST_RUN:\n",
    "    df = df.sample(n=1000).reset_index().drop(columns=[\"index\"]) # after reset index dataframe will have one more column call index\n",
    "    \n",
    "if FAST_PREDICTION:\n",
    "    df_sub = df_sub.sample(n=100).reset_index().drop(columns=[\"index\"]) # after reset index dataframe will have one more column call index"
   ]
  },
  {
   "cell_type": "code",
   "execution_count": 10,
   "id": "d97df4f6",
   "metadata": {
    "execution": {
     "iopub.execute_input": "2022-08-22T08:28:14.694179Z",
     "iopub.status.busy": "2022-08-22T08:28:14.692852Z",
     "iopub.status.idle": "2022-08-22T08:28:14.701293Z",
     "shell.execute_reply": "2022-08-22T08:28:14.700021Z"
    },
    "papermill": {
     "duration": 0.01973,
     "end_time": "2022-08-22T08:28:14.704158",
     "exception": false,
     "start_time": "2022-08-22T08:28:14.684428",
     "status": "completed"
    },
    "tags": []
   },
   "outputs": [],
   "source": [
    "train_df, validate_df = train_test_split(df)"
   ]
  },
  {
   "cell_type": "code",
   "execution_count": 11,
   "id": "eed904f3",
   "metadata": {
    "execution": {
     "iopub.execute_input": "2022-08-22T08:28:14.721759Z",
     "iopub.status.busy": "2022-08-22T08:28:14.720824Z",
     "iopub.status.idle": "2022-08-22T08:28:14.729857Z",
     "shell.execute_reply": "2022-08-22T08:28:14.728557Z"
    },
    "papermill": {
     "duration": 0.021782,
     "end_time": "2022-08-22T08:28:14.732991",
     "exception": false,
     "start_time": "2022-08-22T08:28:14.711209",
     "status": "completed"
    },
    "tags": []
   },
   "outputs": [],
   "source": [
    "def get_image(image_name):\n",
    "    img = imread('../input/airbus-ship-detection/train_v2/'+image_name)[:,:,:IMG_CHANNELS]\n",
    "    img = resize(img, (TARGET_WIDTH, TARGET_HEIGHT), mode='constant', preserve_range=True)\n",
    "    return img\n",
    "    \n",
    "def get_mask(code):\n",
    "    img = rle_decode(code)\n",
    "    img = resize(img, (TARGET_WIDTH, TARGET_HEIGHT, 1), mode='constant', preserve_range=True)\n",
    "    return img"
   ]
  },
  {
   "cell_type": "code",
   "execution_count": 12,
   "id": "f7305c75",
   "metadata": {
    "execution": {
     "iopub.execute_input": "2022-08-22T08:28:14.748696Z",
     "iopub.status.busy": "2022-08-22T08:28:14.748288Z",
     "iopub.status.idle": "2022-08-22T08:28:14.757979Z",
     "shell.execute_reply": "2022-08-22T08:28:14.756620Z"
    },
    "papermill": {
     "duration": 0.020557,
     "end_time": "2022-08-22T08:28:14.760561",
     "exception": false,
     "start_time": "2022-08-22T08:28:14.740004",
     "status": "completed"
    },
    "tags": []
   },
   "outputs": [],
   "source": [
    "def create_image_generator(precess_batch_size, data_df):\n",
    "    while True:\n",
    "        for k, group_df in data_df.groupby(np.arange(data_df.shape[0])//precess_batch_size):\n",
    "            imgs = []\n",
    "            labels = []\n",
    "            for index, row in group_df.iterrows():\n",
    "                # images\n",
    "                original_img = get_image(row.ImageId) / 255.0\n",
    "                # masks\n",
    "                mask = get_mask(row.EncodedPixels) / 255.0\n",
    "                \n",
    "                imgs.append(original_img)\n",
    "                labels.append(mask)\n",
    "                \n",
    "            imgs = np.array(imgs)\n",
    "            labels = np.array(labels)\n",
    "            yield imgs, labels"
   ]
  },
  {
   "cell_type": "code",
   "execution_count": 13,
   "id": "ee8723b4",
   "metadata": {
    "execution": {
     "iopub.execute_input": "2022-08-22T08:28:14.776811Z",
     "iopub.status.busy": "2022-08-22T08:28:14.775645Z",
     "iopub.status.idle": "2022-08-22T08:28:14.782389Z",
     "shell.execute_reply": "2022-08-22T08:28:14.781112Z"
    },
    "papermill": {
     "duration": 0.017645,
     "end_time": "2022-08-22T08:28:14.785315",
     "exception": false,
     "start_time": "2022-08-22T08:28:14.767670",
     "status": "completed"
    },
    "tags": []
   },
   "outputs": [],
   "source": [
    "train_generator = create_image_generator(batch_size, train_df)\n",
    "validate_generator = create_image_generator(batch_size, validate_df)"
   ]
  },
  {
   "cell_type": "code",
   "execution_count": 14,
   "id": "4baeda7d",
   "metadata": {
    "execution": {
     "iopub.execute_input": "2022-08-22T08:28:14.802189Z",
     "iopub.status.busy": "2022-08-22T08:28:14.800093Z",
     "iopub.status.idle": "2022-08-22T08:28:14.808599Z",
     "shell.execute_reply": "2022-08-22T08:28:14.807293Z"
    },
    "papermill": {
     "duration": 0.019486,
     "end_time": "2022-08-22T08:28:14.811554",
     "exception": false,
     "start_time": "2022-08-22T08:28:14.792068",
     "status": "completed"
    },
    "tags": []
   },
   "outputs": [],
   "source": [
    "# Save best model at every epoch\n",
    "checkpoint = ModelCheckpoint(\n",
    "    'model.h5', \n",
    "    monitor='val_loss', \n",
    "    verbose=0, \n",
    "    save_best_only=True, \n",
    "    save_weights_only=False,\n",
    "    mode='auto'\n",
    ")"
   ]
  },
  {
   "cell_type": "code",
   "execution_count": 15,
   "id": "73938155",
   "metadata": {
    "execution": {
     "iopub.execute_input": "2022-08-22T08:28:14.827820Z",
     "iopub.status.busy": "2022-08-22T08:28:14.826697Z",
     "iopub.status.idle": "2022-08-22T08:48:46.873155Z",
     "shell.execute_reply": "2022-08-22T08:48:46.871477Z"
    },
    "papermill": {
     "duration": 1232.057655,
     "end_time": "2022-08-22T08:48:46.876378",
     "exception": false,
     "start_time": "2022-08-22T08:28:14.818723",
     "status": "completed"
    },
    "tags": []
   },
   "outputs": [
    {
     "name": "stderr",
     "output_type": "stream",
     "text": [
      "2022-08-22 08:28:19.291281: I tensorflow/compiler/mlir/mlir_graph_optimization_pass.cc:185] None of the MLIR Optimization Passes are enabled (registered 2)\n"
     ]
    },
    {
     "name": "stdout",
     "output_type": "stream",
     "text": [
      "Epoch 1/10\n"
     ]
    },
    {
     "name": "stderr",
     "output_type": "stream",
     "text": [
      "2022-08-22 08:28:26.510254: I tensorflow/stream_executor/cuda/cuda_dnn.cc:369] Loaded cuDNN version 8005\n"
     ]
    },
    {
     "name": "stdout",
     "output_type": "stream",
     "text": [
      "24/24 [==============================] - 148s 6s/step - loss: 0.3064 - dice_coef: 0.9334 - val_loss: 0.6088 - val_dice_coef: 0.8279\n",
      "Epoch 2/10\n",
      "24/24 [==============================] - 113s 5s/step - loss: 0.1448 - dice_coef: 0.9814 - val_loss: 0.4743 - val_dice_coef: 0.8752\n",
      "Epoch 3/10\n",
      "24/24 [==============================] - 113s 5s/step - loss: 0.1115 - dice_coef: 0.9885 - val_loss: 0.3747 - val_dice_coef: 0.9110\n",
      "Epoch 4/10\n",
      "24/24 [==============================] - 112s 5s/step - loss: 0.1179 - dice_coef: 0.9867 - val_loss: 0.2968 - val_dice_coef: 0.9380\n",
      "Epoch 5/10\n",
      "24/24 [==============================] - 113s 5s/step - loss: 0.0887 - dice_coef: 0.9926 - val_loss: 0.2210 - val_dice_coef: 0.9620\n",
      "Epoch 6/10\n",
      "24/24 [==============================] - 113s 5s/step - loss: 0.0807 - dice_coef: 0.9938 - val_loss: 0.1738 - val_dice_coef: 0.9751\n",
      "Epoch 7/10\n",
      "24/24 [==============================] - 113s 5s/step - loss: 0.0744 - dice_coef: 0.9947 - val_loss: 0.1337 - val_dice_coef: 0.9844\n",
      "Epoch 8/10\n",
      "24/24 [==============================] - 112s 5s/step - loss: 0.0674 - dice_coef: 0.9956 - val_loss: 0.1117 - val_dice_coef: 0.9889\n",
      "Epoch 9/10\n",
      "24/24 [==============================] - 112s 5s/step - loss: 0.0623 - dice_coef: 0.9962 - val_loss: 0.0934 - val_dice_coef: 0.9920\n",
      "Epoch 10/10\n",
      "24/24 [==============================] - 112s 5s/step - loss: 0.0579 - dice_coef: 0.9967 - val_loss: 0.0733 - val_dice_coef: 0.9950\n"
     ]
    }
   ],
   "source": [
    "train_steps=np.ceil(float(train_df.shape[0]) / float(batch_size)).astype(int)\n",
    "validate_steps=np.ceil(float(validate_df.shape[0]) / float(batch_size)).astype(int)\n",
    "\n",
    "history = model.fit_generator(\n",
    "    train_generator, \n",
    "    steps_per_epoch=train_steps,\n",
    "    validation_data=validate_generator,\n",
    "    callbacks=[checkpoint],\n",
    "    validation_steps=validate_steps,\n",
    "    epochs=epochs\n",
    ")"
   ]
  },
  {
   "cell_type": "code",
   "execution_count": 16,
   "id": "696b944c",
   "metadata": {
    "execution": {
     "iopub.execute_input": "2022-08-22T08:48:46.924371Z",
     "iopub.status.busy": "2022-08-22T08:48:46.923034Z",
     "iopub.status.idle": "2022-08-22T08:48:46.932651Z",
     "shell.execute_reply": "2022-08-22T08:48:46.931235Z"
    },
    "papermill": {
     "duration": 0.036438,
     "end_time": "2022-08-22T08:48:46.935632",
     "exception": false,
     "start_time": "2022-08-22T08:48:46.899194",
     "status": "completed"
    },
    "tags": []
   },
   "outputs": [],
   "source": [
    "def get_test_image(image_name):\n",
    "    img = imread('../input/airbus-ship-detection/test_v2/'+image_name)[:,:,:IMG_CHANNELS]\n",
    "    img = resize(img, (TARGET_WIDTH, TARGET_HEIGHT), mode='constant', preserve_range=True)\n",
    "    return img\n",
    "    \n",
    "def create_test_generator(precess_batch_size):\n",
    "    while True:\n",
    "        for k, ix in df_sub.groupby(np.arange(df_sub.shape[0])//precess_batch_size):\n",
    "            imgs = []\n",
    "            labels = []\n",
    "            for index, row in ix.iterrows():\n",
    "                original_img = get_test_image(row.ImageId) / 255.0\n",
    "                imgs.append(original_img)\n",
    "                \n",
    "            imgs = np.array(imgs)\n",
    "            yield imgs"
   ]
  },
  {
   "cell_type": "code",
   "execution_count": 17,
   "id": "414978f3",
   "metadata": {
    "execution": {
     "iopub.execute_input": "2022-08-22T08:48:46.983106Z",
     "iopub.status.busy": "2022-08-22T08:48:46.981839Z",
     "iopub.status.idle": "2022-08-22T08:48:46.988253Z",
     "shell.execute_reply": "2022-08-22T08:48:46.986994Z"
    },
    "papermill": {
     "duration": 0.032667,
     "end_time": "2022-08-22T08:48:46.991049",
     "exception": false,
     "start_time": "2022-08-22T08:48:46.958382",
     "status": "completed"
    },
    "tags": []
   },
   "outputs": [],
   "source": [
    "test_generator = create_test_generator(batch_size)"
   ]
  },
  {
   "cell_type": "code",
   "execution_count": 18,
   "id": "9dc90b11",
   "metadata": {
    "execution": {
     "iopub.execute_input": "2022-08-22T08:48:47.037338Z",
     "iopub.status.busy": "2022-08-22T08:48:47.036931Z",
     "iopub.status.idle": "2022-08-22T08:49:00.760724Z",
     "shell.execute_reply": "2022-08-22T08:49:00.759265Z"
    },
    "papermill": {
     "duration": 13.750519,
     "end_time": "2022-08-22T08:49:00.763824",
     "exception": false,
     "start_time": "2022-08-22T08:48:47.013305",
     "status": "completed"
    },
    "tags": []
   },
   "outputs": [],
   "source": [
    "test_steps = np.ceil(float(df_sub.shape[0]) / float(batch_size)).astype(int)\n",
    "predict_mask = model.predict_generator(test_generator, steps=test_steps)"
   ]
  },
  {
   "cell_type": "code",
   "execution_count": 19,
   "id": "7c156dff",
   "metadata": {
    "execution": {
     "iopub.execute_input": "2022-08-22T08:49:00.811019Z",
     "iopub.status.busy": "2022-08-22T08:49:00.810119Z",
     "iopub.status.idle": "2022-08-22T08:49:00.820270Z",
     "shell.execute_reply": "2022-08-22T08:49:00.818788Z"
    },
    "papermill": {
     "duration": 0.036332,
     "end_time": "2022-08-22T08:49:00.823035",
     "exception": false,
     "start_time": "2022-08-22T08:49:00.786703",
     "status": "completed"
    },
    "tags": []
   },
   "outputs": [
    {
     "data": {
      "text/plain": [
       "numpy.ndarray"
      ]
     },
     "execution_count": 19,
     "metadata": {},
     "output_type": "execute_result"
    }
   ],
   "source": [
    "type(predict_mask)"
   ]
  },
  {
   "cell_type": "code",
   "execution_count": 20,
   "id": "80615132",
   "metadata": {
    "execution": {
     "iopub.execute_input": "2022-08-22T08:49:00.870652Z",
     "iopub.status.busy": "2022-08-22T08:49:00.869264Z",
     "iopub.status.idle": "2022-08-22T08:49:07.449082Z",
     "shell.execute_reply": "2022-08-22T08:49:07.447635Z"
    },
    "papermill": {
     "duration": 6.607244,
     "end_time": "2022-08-22T08:49:07.452551",
     "exception": false,
     "start_time": "2022-08-22T08:49:00.845307",
     "status": "completed"
    },
    "tags": []
   },
   "outputs": [
    {
     "data": {
      "image/png": "[encoded data removed]",
      "text/plain": [
       "<Figure size 1152x576 with 40 Axes>"
      ]
     },
     "metadata": {
      "needs_background": "light"
     },
     "output_type": "display_data"
    }
   ],
   "source": [
    "fig=plt.figure(figsize=(16, 8))\n",
    "for index, row in df_sub.head(20).iterrows():\n",
    "    origin_image = imread('../input/airbus-ship-detection/test_v2/'+row.ImageId)\n",
    "    predicted_image = resize(predict_mask[index], image_shape).reshape(IMG_WIDTH, IMG_HEIGHT) * 255\n",
    "    plt.subplot(10, 4, 2*index+1)\n",
    "    plt.imshow(origin_image)\n",
    "    plt.subplot(10, 4, 2*index+2)\n",
    "    plt.imshow(predicted_image)"
   ]
  },
  {
   "cell_type": "code",
   "execution_count": 21,
   "id": "fe882d7c",
   "metadata": {
    "execution": {
     "iopub.execute_input": "2022-08-22T08:49:07.502528Z",
     "iopub.status.busy": "2022-08-22T08:49:07.502140Z",
     "iopub.status.idle": "2022-08-22T08:49:07.510818Z",
     "shell.execute_reply": "2022-08-22T08:49:07.509359Z"
    },
    "papermill": {
     "duration": 0.036657,
     "end_time": "2022-08-22T08:49:07.513373",
     "exception": false,
     "start_time": "2022-08-22T08:49:07.476716",
     "status": "completed"
    },
    "tags": []
   },
   "outputs": [
    {
     "data": {
      "text/plain": [
       "(100, 128, 128, 1)"
      ]
     },
     "execution_count": 21,
     "metadata": {},
     "output_type": "execute_result"
    }
   ],
   "source": [
    "predict_mask.shape"
   ]
  },
  {
   "cell_type": "code",
   "execution_count": 22,
   "id": "22e22376",
   "metadata": {
    "execution": {
     "iopub.execute_input": "2022-08-22T08:49:07.564177Z",
     "iopub.status.busy": "2022-08-22T08:49:07.562853Z",
     "iopub.status.idle": "2022-08-22T08:49:07.569264Z",
     "shell.execute_reply": "2022-08-22T08:49:07.567754Z"
    },
    "papermill": {
     "duration": 0.034536,
     "end_time": "2022-08-22T08:49:07.572224",
     "exception": false,
     "start_time": "2022-08-22T08:49:07.537688",
     "status": "completed"
    },
    "tags": []
   },
   "outputs": [],
   "source": [
    "# predict_ship = model.evaluate(test_generator, )"
   ]
  },
  {
   "cell_type": "code",
   "execution_count": 23,
   "id": "ca352259",
   "metadata": {
    "execution": {
     "iopub.execute_input": "2022-08-22T08:49:07.624201Z",
     "iopub.status.busy": "2022-08-22T08:49:07.622116Z",
     "iopub.status.idle": "2022-08-22T08:49:07.628331Z",
     "shell.execute_reply": "2022-08-22T08:49:07.627096Z"
    },
    "papermill": {
     "duration": 0.03459,
     "end_time": "2022-08-22T08:49:07.631103",
     "exception": false,
     "start_time": "2022-08-22T08:49:07.596513",
     "status": "completed"
    },
    "tags": []
   },
   "outputs": [],
   "source": [
    "# print ('Accuracy of random data = '+ str(round(predict_ship[1]*100)) + \"%\")"
   ]
  },
  {
   "cell_type": "code",
   "execution_count": 24,
   "id": "ed58d3ab",
   "metadata": {
    "execution": {
     "iopub.execute_input": "2022-08-22T08:49:07.682433Z",
     "iopub.status.busy": "2022-08-22T08:49:07.682033Z",
     "iopub.status.idle": "2022-08-22T08:49:07.958445Z",
     "shell.execute_reply": "2022-08-22T08:49:07.957118Z"
    },
    "papermill": {
     "duration": 0.305182,
     "end_time": "2022-08-22T08:49:07.961177",
     "exception": false,
     "start_time": "2022-08-22T08:49:07.655995",
     "status": "completed"
    },
    "tags": []
   },
   "outputs": [
    {
     "data": {
      "image/png": "[encoded data removed]",
      "text/plain": [
       "<Figure size 1080x360 with 1 Axes>"
      ]
     },
     "metadata": {
      "needs_background": "light"
     },
     "output_type": "display_data"
    }
   ],
   "source": [
    "# PLOT TRAINING\n",
    "plt.figure(figsize=(15,5))\n",
    "plt.plot(range(history.epoch[-1]+1),history.history['val_dice_coef'],label='Val_dice_coef')\n",
    "plt.plot(range(history.epoch[-1]+1),history.history['dice_coef'],label='Trn_dice_coef')\n",
    "plt.title('DICE'); plt.xlabel('Epoch'); plt.ylabel('dice_coef');plt.legend(); \n",
    "plt.show()"
   ]
  },
  {
   "cell_type": "code",
   "execution_count": null,
   "id": "2d28b2c0",
   "metadata": {
    "papermill": {
     "duration": 0.02471,
     "end_time": "2022-08-22T08:49:08.011526",
     "exception": false,
     "start_time": "2022-08-22T08:49:07.986816",
     "status": "completed"
    },
    "tags": []
   },
   "outputs": [],
   "source": []
  },
  {
   "cell_type": "code",
   "execution_count": null,
   "id": "3ac29c31",
   "metadata": {
    "papermill": {
     "duration": 0.024925,
     "end_time": "2022-08-22T08:49:08.062085",
     "exception": false,
     "start_time": "2022-08-22T08:49:08.037160",
     "status": "completed"
    },
    "tags": []
   },
   "outputs": [],
   "source": []
  },
  {
   "cell_type": "code",
   "execution_count": null,
   "id": "ddf579fd",
   "metadata": {
    "papermill": {
     "duration": 0.024452,
     "end_time": "2022-08-22T08:49:08.111864",
     "exception": false,
     "start_time": "2022-08-22T08:49:08.087412",
     "status": "completed"
    },
    "tags": []
   },
   "outputs": [],
   "source": []
  }
 ],
 "metadata": {
  "kernelspec": {
   "display_name": "Python 3",
   "language": "python",
   "name": "python3"
  },
  "language_info": {
   "codemirror_mode": {
    "name": "ipython",
    "version": 3
   },
   "file_extension": ".py",
   "mimetype": "text/x-python",
   "name": "python",
   "nbconvert_exporter": "python",
   "pygments_lexer": "ipython3",
   "version": "3.7.12"
  },
  "papermill": {
   "default_parameters": {},
   "duration": 1283.460785,
   "end_time": "2022-08-22T08:49:12.245401",
   "environment_variables": {},
   "exception": null,
   "input_path": "__notebook__.ipynb",
   "output_path": "__notebook__.ipynb",
   "parameters": {},
   "start_time": "2022-08-22T08:27:48.784616",
   "version": "2.3.4"
  }
 },
 "nbformat": 4,
 "nbformat_minor": 5
}
