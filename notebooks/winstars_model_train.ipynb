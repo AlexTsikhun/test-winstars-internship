{
 "cells": [
  {
   "cell_type": "markdown",
   "id": "00156ee2",
   "metadata": {
    "papermill": {
     "duration": 0.007464,
     "end_time": "2022-08-23T10:13:05.787840",
     "exception": false,
     "start_time": "2022-08-23T10:13:05.780376",
     "status": "completed"
    },
    "tags": []
   },
   "source": [
    "# Import"
   ]
  },
  {
   "cell_type": "code",
   "execution_count": 1,
   "id": "6d19caf7",
   "metadata": {
    "execution": {
     "iopub.execute_input": "2022-08-23T10:13:05.800823Z",
     "iopub.status.busy": "2022-08-23T10:13:05.800399Z",
     "iopub.status.idle": "2022-08-23T10:13:12.092671Z",
     "shell.execute_reply": "2022-08-23T10:13:12.091732Z"
    },
    "papermill": {
     "duration": 6.301412,
     "end_time": "2022-08-23T10:13:12.095476",
     "exception": false,
     "start_time": "2022-08-23T10:13:05.794064",
     "status": "completed"
    },
    "tags": []
   },
   "outputs": [],
   "source": [
    "import numpy as np\n",
    "import pandas as pd\n",
    "\n",
    "from matplotlib import pyplot as plt\n",
    "import tensorflow as tf\n",
    "\n",
    "# from keras.preprocessing.image import load_img\n",
    "\n",
    "import keras.backend as K\n",
    "from tensorflow.keras.callbacks import LearningRateScheduler, ModelCheckpoint, EarlyStopping\n",
    "\n",
    "from tensorflow.keras.models import Model\n",
    "from tensorflow.keras.layers import Input, concatenate, Conv2D, MaxPooling2D, Activation, UpSampling2D, BatchNormalization\n",
    "\n",
    "from skimage.io import imread\n",
    "from skimage.transform import resize\n",
    "from sklearn.model_selection import train_test_split\n",
    "\n",
    "# Load truncated iamges https://www.kaggle.com/c/airbus-ship-detection/discussion/62574#latest-445141\n",
    "from PIL import ImageFile\n",
    "ImageFile.LOAD_TRUNCATED_IMAGES = True\n",
    "\n",
    "import warnings\n",
    "warnings.filterwarnings('ignore')\n",
    "\n",
    "import os"
   ]
  },
  {
   "cell_type": "code",
   "execution_count": 2,
   "id": "6d0cc9f0",
   "metadata": {
    "execution": {
     "iopub.execute_input": "2022-08-23T10:13:12.109191Z",
     "iopub.status.busy": "2022-08-23T10:13:12.107298Z",
     "iopub.status.idle": "2022-08-23T10:13:12.114049Z",
     "shell.execute_reply": "2022-08-23T10:13:12.113049Z"
    },
    "papermill": {
     "duration": 0.015381,
     "end_time": "2022-08-23T10:13:12.116351",
     "exception": false,
     "start_time": "2022-08-23T10:13:12.100970",
     "status": "completed"
    },
    "tags": []
   },
   "outputs": [
    {
     "name": "stdout",
     "output_type": "stream",
     "text": [
      "['test_v2', 'sample_submission_v2.csv', 'train_ship_segmentations_v2.csv', 'train_v2']\n"
     ]
    }
   ],
   "source": [
    "print(os.listdir(\"../input/airbus-ship-detection/\"))"
   ]
  },
  {
   "cell_type": "markdown",
   "id": "4beef677",
   "metadata": {
    "papermill": {
     "duration": 0.005416,
     "end_time": "2022-08-23T10:13:12.127039",
     "exception": false,
     "start_time": "2022-08-23T10:13:12.121623",
     "status": "completed"
    },
    "tags": []
   },
   "source": [
    "# Constants"
   ]
  },
  {
   "cell_type": "code",
   "execution_count": 3,
   "id": "577a62f5",
   "metadata": {
    "execution": {
     "iopub.execute_input": "2022-08-23T10:13:12.139668Z",
     "iopub.status.busy": "2022-08-23T10:13:12.139138Z",
     "iopub.status.idle": "2022-08-23T10:13:12.144379Z",
     "shell.execute_reply": "2022-08-23T10:13:12.143561Z"
    },
    "papermill": {
     "duration": 0.013242,
     "end_time": "2022-08-23T10:13:12.146264",
     "exception": false,
     "start_time": "2022-08-23T10:13:12.133022",
     "status": "completed"
    },
    "tags": []
   },
   "outputs": [],
   "source": [
    "IMG_WIDTH = 768\n",
    "IMG_HEIGHT = 768\n",
    "IMG_CHANNELS = 3\n",
    "TARGET_WIDTH = 128\n",
    "TARGET_HEIGHT = 128\n",
    "epochs=10\n",
    "batch_size=32\n",
    "image_shape=(768, 768)\n",
    "FAST_RUN=True # use for development only\n",
    "FAST_PREDICTION=True # use for development only"
   ]
  },
  {
   "cell_type": "code",
   "execution_count": 4,
   "id": "ed3b81ac",
   "metadata": {
    "execution": {
     "iopub.execute_input": "2022-08-23T10:13:12.158169Z",
     "iopub.status.busy": "2022-08-23T10:13:12.157906Z",
     "iopub.status.idle": "2022-08-23T10:13:13.160313Z",
     "shell.execute_reply": "2022-08-23T10:13:13.159298Z"
    },
    "papermill": {
     "duration": 1.010906,
     "end_time": "2022-08-23T10:13:13.162741",
     "exception": false,
     "start_time": "2022-08-23T10:13:12.151835",
     "status": "completed"
    },
    "tags": []
   },
   "outputs": [],
   "source": [
    "df = pd.read_csv('../input/airbus-ship-detection/train_ship_segmentations_v2.csv')\n",
    "df_sub = pd.read_csv('../input/airbus-ship-detection/sample_submission_v2.csv')"
   ]
  },
  {
   "cell_type": "code",
   "execution_count": 5,
   "id": "236a6278",
   "metadata": {
    "execution": {
     "iopub.execute_input": "2022-08-23T10:13:13.175092Z",
     "iopub.status.busy": "2022-08-23T10:13:13.174769Z",
     "iopub.status.idle": "2022-08-23T10:13:13.185867Z",
     "shell.execute_reply": "2022-08-23T10:13:13.184960Z"
    },
    "papermill": {
     "duration": 0.019498,
     "end_time": "2022-08-23T10:13:13.187869",
     "exception": false,
     "start_time": "2022-08-23T10:13:13.168371",
     "status": "completed"
    },
    "tags": []
   },
   "outputs": [],
   "source": [
    "# ref: https://www.kaggle.com/paulorzp/run-length-encode-and-decode\n",
    "no_mask = np.zeros(image_shape[0]*image_shape[1], dtype=np.uint8)\n",
    "def rle_encode(img):\n",
    "    '''\n",
    "    img: numpy array, 1 - mask, 0 - background\n",
    "    Returns run length as string formated\n",
    "    '''\n",
    "    pixels = img.flatten()\n",
    "    pixels = np.concatenate([[0], pixels, [0]])\n",
    "    runs = np.where(pixels[1:] != pixels[:-1])[0] + 1\n",
    "    runs[1::2] -= runs[::2]\n",
    "    rle = ' '.join(str(x) for x in runs)\n",
    "    return rle\n",
    "\n",
    "def rle_decode(mask_rle, shape=image_shape):\n",
    "    '''\n",
    "        mask_rle: run-length as string formated (start length)\n",
    "    shape: (height,width) of array to return \n",
    "    Returns numpy array, 1 - mask, 0 - background\n",
    "\n",
    "    '''\n",
    "    if pd.isnull(mask_rle):\n",
    "        img = no_mask\n",
    "        return img.reshape(shape).T\n",
    "    s = mask_rle.split()\n",
    "    starts, lengths = [np.asarray(x, dtype=int) for x in (s[0:][::2], s[1:][::2])]\n",
    "\n",
    "    starts -= 1\n",
    "    ends = starts + lengths\n",
    "    img = np.zeros(shape[0]*shape[1], dtype=np.uint8)\n",
    "    for lo, hi in zip(starts, ends):\n",
    "        img[lo:hi] = 1\n",
    "    return img.reshape(shape).T\n",
    "\n",
    "def dice_coef(y_true, y_pred, smooth=1):\n",
    "    intersection = K.sum(K.abs(y_true * y_pred), axis=-1)\n",
    "    return (2. * intersection + smooth) / (K.sum(K.square(y_true),-1) + K.sum(K.square(y_pred),-1) + smooth)"
   ]
  },
  {
   "cell_type": "code",
   "execution_count": 6,
   "id": "60ed2d27",
   "metadata": {
    "execution": {
     "iopub.execute_input": "2022-08-23T10:13:13.200267Z",
     "iopub.status.busy": "2022-08-23T10:13:13.199685Z",
     "iopub.status.idle": "2022-08-23T10:13:16.142017Z",
     "shell.execute_reply": "2022-08-23T10:13:16.141089Z"
    },
    "papermill": {
     "duration": 2.950915,
     "end_time": "2022-08-23T10:13:16.144230",
     "exception": false,
     "start_time": "2022-08-23T10:13:13.193315",
     "status": "completed"
    },
    "tags": []
   },
   "outputs": [
    {
     "name": "stderr",
     "output_type": "stream",
     "text": [
      "2022-08-23 10:13:13.312982: I tensorflow/stream_executor/cuda/cuda_gpu_executor.cc:937] successful NUMA node read from SysFS had negative value (-1), but there must be at least one NUMA node, so returning NUMA node zero\n",
      "2022-08-23 10:13:13.405009: I tensorflow/stream_executor/cuda/cuda_gpu_executor.cc:937] successful NUMA node read from SysFS had negative value (-1), but there must be at least one NUMA node, so returning NUMA node zero\n",
      "2022-08-23 10:13:13.405778: I tensorflow/stream_executor/cuda/cuda_gpu_executor.cc:937] successful NUMA node read from SysFS had negative value (-1), but there must be at least one NUMA node, so returning NUMA node zero\n",
      "2022-08-23 10:13:13.407848: I tensorflow/core/platform/cpu_feature_guard.cc:142] This TensorFlow binary is optimized with oneAPI Deep Neural Network Library (oneDNN) to use the following CPU instructions in performance-critical operations:  AVX2 AVX512F FMA\n",
      "To enable them in other operations, rebuild TensorFlow with the appropriate compiler flags.\n",
      "2022-08-23 10:13:13.408216: I tensorflow/stream_executor/cuda/cuda_gpu_executor.cc:937] successful NUMA node read from SysFS had negative value (-1), but there must be at least one NUMA node, so returning NUMA node zero\n",
      "2022-08-23 10:13:13.409227: I tensorflow/stream_executor/cuda/cuda_gpu_executor.cc:937] successful NUMA node read from SysFS had negative value (-1), but there must be at least one NUMA node, so returning NUMA node zero\n",
      "2022-08-23 10:13:13.410146: I tensorflow/stream_executor/cuda/cuda_gpu_executor.cc:937] successful NUMA node read from SysFS had negative value (-1), but there must be at least one NUMA node, so returning NUMA node zero\n",
      "2022-08-23 10:13:15.357876: I tensorflow/stream_executor/cuda/cuda_gpu_executor.cc:937] successful NUMA node read from SysFS had negative value (-1), but there must be at least one NUMA node, so returning NUMA node zero\n",
      "2022-08-23 10:13:15.358778: I tensorflow/stream_executor/cuda/cuda_gpu_executor.cc:937] successful NUMA node read from SysFS had negative value (-1), but there must be at least one NUMA node, so returning NUMA node zero\n",
      "2022-08-23 10:13:15.359488: I tensorflow/stream_executor/cuda/cuda_gpu_executor.cc:937] successful NUMA node read from SysFS had negative value (-1), but there must be at least one NUMA node, so returning NUMA node zero\n",
      "2022-08-23 10:13:15.360111: I tensorflow/core/common_runtime/gpu/gpu_device.cc:1510] Created device /job:localhost/replica:0/task:0/device:GPU:0 with 15403 MB memory:  -> device: 0, name: Tesla P100-PCIE-16GB, pci bus id: 0000:00:04.0, compute capability: 6.0\n"
     ]
    }
   ],
   "source": [
    "# Model interface\n",
    "inputs = Input((TARGET_WIDTH , TARGET_HEIGHT, IMG_CHANNELS))\n",
    "\n",
    "# 128\n",
    "\n",
    "down1 = Conv2D(64, (3, 3), padding='same')(inputs)\n",
    "down1 = BatchNormalization()(down1)\n",
    "down1 = Activation('relu')(down1)\n",
    "down1 = Conv2D(64, (3, 3), padding='same')(down1)\n",
    "down1 = BatchNormalization()(down1)\n",
    "down1 = Activation('relu')(down1)\n",
    "down1_pool = MaxPooling2D((2, 2), strides=(2, 2))(down1)\n",
    "# 64\n",
    "\n",
    "down2 = Conv2D(128, (3, 3), padding='same')(down1_pool)\n",
    "down2 = BatchNormalization()(down2)\n",
    "down2 = Activation('relu')(down2)\n",
    "down2 = Conv2D(128, (3, 3), padding='same')(down2)\n",
    "down2 = BatchNormalization()(down2)\n",
    "down2 = Activation('relu')(down2)\n",
    "down2_pool = MaxPooling2D((2, 2), strides=(2, 2))(down2)\n",
    "# 32\n",
    "down3 = Conv2D(256, (3, 3), padding='same')(down2_pool)\n",
    "down3 = BatchNormalization()(down3)\n",
    "down3 = Activation('relu')(down3)\n",
    "down3 = Conv2D(256, (3, 3), padding='same')(down3)\n",
    "down3 = BatchNormalization()(down3)\n",
    "down3 = Activation('relu')(down3)\n",
    "down3_pool = MaxPooling2D((2, 2), strides=(2, 2))(down3)\n",
    "# 16\n",
    "\n",
    "down4 = Conv2D(512, (3, 3), padding='same')(down3_pool)\n",
    "down4 = BatchNormalization()(down4)\n",
    "down4 = Activation('relu')(down4)\n",
    "down4 = Conv2D(512, (3, 3), padding='same')(down4)\n",
    "down4 = BatchNormalization()(down4)\n",
    "down4 = Activation('relu')(down4)\n",
    "down4_pool = MaxPooling2D((2, 2), strides=(2, 2))(down4)\n",
    "# 8\n",
    "center = Conv2D(1024, (3, 3), padding='same')(down4_pool)\n",
    "center = BatchNormalization()(center)\n",
    "center = Activation('relu')(center)\n",
    "center = Conv2D(1024, (3, 3), padding='same')(center)\n",
    "center = BatchNormalization()(center)\n",
    "center = Activation('relu')(center)\n",
    "# center\n",
    "\n",
    "up4 = UpSampling2D((2, 2))(center)\n",
    "up4 = concatenate([down4, up4], axis=3)\n",
    "up4 = Conv2D(512, (3, 3), padding='same')(up4)\n",
    "up4 = BatchNormalization()(up4)\n",
    "up4 = Activation('relu')(up4)\n",
    "up4 = Conv2D(512, (3, 3), padding='same')(up4)\n",
    "up4 = BatchNormalization()(up4)\n",
    "up4 = Activation('relu')(up4)\n",
    "up4 = Conv2D(512, (3, 3), padding='same')(up4)\n",
    "up4 = BatchNormalization()(up4)\n",
    "up4 = Activation('relu')(up4)\n",
    "# 16\n",
    "up3 = UpSampling2D((2, 2))(up4)\n",
    "up3 = concatenate([down3, up3], axis=3)\n",
    "up3 = Conv2D(256, (3, 3), padding='same')(up3)\n",
    "up3 = BatchNormalization()(up3)\n",
    "up3 = Activation('relu')(up3)\n",
    "up3 = Conv2D(256, (3, 3), padding='same')(up3)\n",
    "up3 = BatchNormalization()(up3)\n",
    "up3 = Activation('relu')(up3)\n",
    "up3 = Conv2D(256, (3, 3), padding='same')(up3)\n",
    "up3 = BatchNormalization()(up3)\n",
    "up3 = Activation('relu')(up3)\n",
    "# 32\n",
    "\n",
    "up2 = UpSampling2D((2, 2))(up3)\n",
    "up2 = concatenate([down2, up2], axis=3)\n",
    "up2 = Conv2D(128, (3, 3), padding='same')(up2)\n",
    "up2 = BatchNormalization()(up2)\n",
    "up2 = Activation('relu')(up2)\n",
    "up2 = Conv2D(128, (3, 3), padding='same')(up2)\n",
    "up2 = BatchNormalization()(up2)\n",
    "up2 = Activation('relu')(up2)\n",
    "up2 = Conv2D(128, (3, 3), padding='same')(up2)\n",
    "up2 = BatchNormalization()(up2)\n",
    "up2 = Activation('relu')(up2)\n",
    "# 64\n",
    "up1 = UpSampling2D((2, 2))(up2)\n",
    "up1 = concatenate([down1, up1], axis=3)\n",
    "up1 = Conv2D(64, (3, 3), padding='same')(up1)\n",
    "up1 = BatchNormalization()(up1)\n",
    "up1 = Activation('relu')(up1)\n",
    "up1 = Conv2D(64, (3, 3), padding='same')(up1)\n",
    "up1 = BatchNormalization()(up1)\n",
    "up1 = Activation('relu')(up1)\n",
    "up1 = Conv2D(64, (3, 3), padding='same')(up1)\n",
    "up1 = BatchNormalization()(up1)\n",
    "up1 = Activation('relu')(up1)\n",
    "# 128\n",
    "\n",
    "outputs = Conv2D(1, (1, 1), activation='sigmoid')(up1)\n",
    "\n",
    "model = Model(inputs=inputs, outputs=outputs)"
   ]
  },
  {
   "cell_type": "code",
   "execution_count": 7,
   "id": "4546d22b",
   "metadata": {
    "execution": {
     "iopub.execute_input": "2022-08-23T10:13:16.157666Z",
     "iopub.status.busy": "2022-08-23T10:13:16.157051Z",
     "iopub.status.idle": "2022-08-23T10:13:16.161378Z",
     "shell.execute_reply": "2022-08-23T10:13:16.160474Z"
    },
    "papermill": {
     "duration": 0.013111,
     "end_time": "2022-08-23T10:13:16.163384",
     "exception": false,
     "start_time": "2022-08-23T10:13:16.150273",
     "status": "completed"
    },
    "tags": []
   },
   "outputs": [],
   "source": [
    "optimizer = tf.keras.optimizers.RMSprop(1e-4)"
   ]
  },
  {
   "cell_type": "code",
   "execution_count": 8,
   "id": "de1141de",
   "metadata": {
    "execution": {
     "iopub.execute_input": "2022-08-23T10:13:16.175660Z",
     "iopub.status.busy": "2022-08-23T10:13:16.175387Z",
     "iopub.status.idle": "2022-08-23T10:13:16.187623Z",
     "shell.execute_reply": "2022-08-23T10:13:16.186734Z"
    },
    "papermill": {
     "duration": 0.020759,
     "end_time": "2022-08-23T10:13:16.189709",
     "exception": false,
     "start_time": "2022-08-23T10:13:16.168950",
     "status": "completed"
    },
    "tags": []
   },
   "outputs": [],
   "source": [
    "model.compile(\n",
    "    optimizer=optimizer, \n",
    "    loss=\"binary_crossentropy\", \n",
    "    metrics=[dice_coef]\n",
    ")"
   ]
  },
  {
   "cell_type": "code",
   "execution_count": 9,
   "id": "7836b17b",
   "metadata": {
    "execution": {
     "iopub.execute_input": "2022-08-23T10:13:16.202984Z",
     "iopub.status.busy": "2022-08-23T10:13:16.201603Z",
     "iopub.status.idle": "2022-08-23T10:13:16.232817Z",
     "shell.execute_reply": "2022-08-23T10:13:16.232002Z"
    },
    "papermill": {
     "duration": 0.039515,
     "end_time": "2022-08-23T10:13:16.234985",
     "exception": false,
     "start_time": "2022-08-23T10:13:16.195470",
     "status": "completed"
    },
    "tags": []
   },
   "outputs": [],
   "source": [
    "# use for development to run it faster\n",
    "if FAST_RUN:\n",
    "    df = df.sample(n=1000).reset_index().drop(columns=[\"index\"]) # after reset index dataframe will have one more column call index\n",
    "    \n",
    "if FAST_PREDICTION:\n",
    "    df_sub = df_sub.sample(n=100).reset_index().drop(columns=[\"index\"]) # after reset index dataframe will have one more column call index"
   ]
  },
  {
   "cell_type": "markdown",
   "id": "37644f47",
   "metadata": {
    "papermill": {
     "duration": 0.006114,
     "end_time": "2022-08-23T10:13:16.246550",
     "exception": false,
     "start_time": "2022-08-23T10:13:16.240436",
     "status": "completed"
    },
    "tags": []
   },
   "source": [
    "# Split data"
   ]
  },
  {
   "cell_type": "code",
   "execution_count": 10,
   "id": "02984060",
   "metadata": {
    "execution": {
     "iopub.execute_input": "2022-08-23T10:13:16.258459Z",
     "iopub.status.busy": "2022-08-23T10:13:16.257963Z",
     "iopub.status.idle": "2022-08-23T10:13:16.263502Z",
     "shell.execute_reply": "2022-08-23T10:13:16.262638Z"
    },
    "papermill": {
     "duration": 0.013718,
     "end_time": "2022-08-23T10:13:16.265593",
     "exception": false,
     "start_time": "2022-08-23T10:13:16.251875",
     "status": "completed"
    },
    "tags": []
   },
   "outputs": [],
   "source": [
    "train_df, validate_df = train_test_split(df,\n",
    "                                        test_size=.2,\n",
    "                                        random_state=2022)"
   ]
  },
  {
   "cell_type": "code",
   "execution_count": 11,
   "id": "e3c8ea96",
   "metadata": {
    "execution": {
     "iopub.execute_input": "2022-08-23T10:13:16.278242Z",
     "iopub.status.busy": "2022-08-23T10:13:16.277423Z",
     "iopub.status.idle": "2022-08-23T10:13:16.283226Z",
     "shell.execute_reply": "2022-08-23T10:13:16.282407Z"
    },
    "papermill": {
     "duration": 0.014131,
     "end_time": "2022-08-23T10:13:16.285237",
     "exception": false,
     "start_time": "2022-08-23T10:13:16.271106",
     "status": "completed"
    },
    "tags": []
   },
   "outputs": [],
   "source": [
    "def get_image(image_name):\n",
    "    img = imread('../input/airbus-ship-detection/train_v2/'+image_name)[:,:,:IMG_CHANNELS]\n",
    "    img = resize(img, (TARGET_WIDTH, TARGET_HEIGHT), mode='constant', preserve_range=True)\n",
    "    return img\n",
    "    \n",
    "def get_mask(code):\n",
    "    img = rle_decode(code)\n",
    "    img = resize(img, (TARGET_WIDTH, TARGET_HEIGHT, 1), mode='constant', preserve_range=True)\n",
    "    return img"
   ]
  },
  {
   "cell_type": "code",
   "execution_count": 12,
   "id": "deafa4b8",
   "metadata": {
    "execution": {
     "iopub.execute_input": "2022-08-23T10:13:16.298454Z",
     "iopub.status.busy": "2022-08-23T10:13:16.297089Z",
     "iopub.status.idle": "2022-08-23T10:13:16.303555Z",
     "shell.execute_reply": "2022-08-23T10:13:16.302740Z"
    },
    "papermill": {
     "duration": 0.014896,
     "end_time": "2022-08-23T10:13:16.305668",
     "exception": false,
     "start_time": "2022-08-23T10:13:16.290772",
     "status": "completed"
    },
    "tags": []
   },
   "outputs": [],
   "source": [
    "def create_image_generator(precess_batch_size, data_df):\n",
    "    while True:\n",
    "        for k, group_df in data_df.groupby(np.arange(data_df.shape[0])//precess_batch_size):\n",
    "            imgs = []\n",
    "            labels = []\n",
    "            for index, row in group_df.iterrows():\n",
    "                # images\n",
    "                original_img = get_image(row.ImageId) / 255.0\n",
    "                # masks\n",
    "                mask = get_mask(row.EncodedPixels) / 255.0\n",
    "                \n",
    "                imgs.append(original_img)\n",
    "                labels.append(mask)\n",
    "                \n",
    "            imgs = np.array(imgs)\n",
    "            labels = np.array(labels)\n",
    "            yield imgs, labels"
   ]
  },
  {
   "cell_type": "code",
   "execution_count": 13,
   "id": "65fc6c0c",
   "metadata": {
    "execution": {
     "iopub.execute_input": "2022-08-23T10:13:16.317716Z",
     "iopub.status.busy": "2022-08-23T10:13:16.317448Z",
     "iopub.status.idle": "2022-08-23T10:13:16.322404Z",
     "shell.execute_reply": "2022-08-23T10:13:16.321583Z"
    },
    "papermill": {
     "duration": 0.013395,
     "end_time": "2022-08-23T10:13:16.324465",
     "exception": false,
     "start_time": "2022-08-23T10:13:16.311070",
     "status": "completed"
    },
    "tags": []
   },
   "outputs": [],
   "source": [
    "train_generator = create_image_generator(batch_size, train_df)\n",
    "validate_generator = create_image_generator(batch_size, validate_df)"
   ]
  },
  {
   "cell_type": "markdown",
   "id": "a7a28830",
   "metadata": {
    "papermill": {
     "duration": 0.005116,
     "end_time": "2022-08-23T10:13:16.335179",
     "exception": false,
     "start_time": "2022-08-23T10:13:16.330063",
     "status": "completed"
    },
    "tags": []
   },
   "source": [
    "# Train"
   ]
  },
  {
   "cell_type": "code",
   "execution_count": 14,
   "id": "93e672c0",
   "metadata": {
    "execution": {
     "iopub.execute_input": "2022-08-23T10:13:16.347478Z",
     "iopub.status.busy": "2022-08-23T10:13:16.347228Z",
     "iopub.status.idle": "2022-08-23T10:13:16.351525Z",
     "shell.execute_reply": "2022-08-23T10:13:16.350603Z"
    },
    "papermill": {
     "duration": 0.012942,
     "end_time": "2022-08-23T10:13:16.353446",
     "exception": false,
     "start_time": "2022-08-23T10:13:16.340504",
     "status": "completed"
    },
    "tags": []
   },
   "outputs": [],
   "source": [
    "# Save best model at every epoch\n",
    "checkpoint = ModelCheckpoint(\n",
    "    'model.h5', \n",
    "    monitor='val_loss', \n",
    "    verbose=0, \n",
    "    save_best_only=True, \n",
    "    save_weights_only=False,\n",
    "    mode='auto'\n",
    ")"
   ]
  },
  {
   "cell_type": "code",
   "execution_count": 15,
   "id": "02cadc59",
   "metadata": {
    "execution": {
     "iopub.execute_input": "2022-08-23T10:13:16.365689Z",
     "iopub.status.busy": "2022-08-23T10:13:16.364815Z",
     "iopub.status.idle": "2022-08-23T10:29:18.660049Z",
     "shell.execute_reply": "2022-08-23T10:29:18.659023Z"
    },
    "papermill": {
     "duration": 962.304038,
     "end_time": "2022-08-23T10:29:18.662754",
     "exception": false,
     "start_time": "2022-08-23T10:13:16.358716",
     "status": "completed"
    },
    "tags": []
   },
   "outputs": [
    {
     "name": "stderr",
     "output_type": "stream",
     "text": [
      "2022-08-23 10:13:19.904746: I tensorflow/compiler/mlir/mlir_graph_optimization_pass.cc:185] None of the MLIR Optimization Passes are enabled (registered 2)\n"
     ]
    },
    {
     "name": "stdout",
     "output_type": "stream",
     "text": [
      "Epoch 1/10\n"
     ]
    },
    {
     "name": "stderr",
     "output_type": "stream",
     "text": [
      "2022-08-23 10:13:25.072679: I tensorflow/stream_executor/cuda/cuda_dnn.cc:369] Loaded cuDNN version 8005\n"
     ]
    },
    {
     "name": "stdout",
     "output_type": "stream",
     "text": [
      "25/25 [==============================] - 118s 4s/step - loss: 0.2071 - dice_coef: 0.9624 - val_loss: 0.6093 - val_dice_coef: 0.8277\n",
      "Epoch 2/10\n",
      "25/25 [==============================] - 94s 4s/step - loss: 0.0931 - dice_coef: 0.9916 - val_loss: 0.4440 - val_dice_coef: 0.8861\n",
      "Epoch 3/10\n",
      "25/25 [==============================] - 93s 4s/step - loss: 0.0822 - dice_coef: 0.9931 - val_loss: 0.3442 - val_dice_coef: 0.9218\n",
      "Epoch 4/10\n",
      "25/25 [==============================] - 92s 4s/step - loss: 0.0671 - dice_coef: 0.9955 - val_loss: 0.2661 - val_dice_coef: 0.9481\n",
      "Epoch 5/10\n",
      "25/25 [==============================] - 93s 4s/step - loss: 0.0586 - dice_coef: 0.9966 - val_loss: 0.1857 - val_dice_coef: 0.9720\n",
      "Epoch 6/10\n",
      "25/25 [==============================] - 92s 4s/step - loss: 0.0515 - dice_coef: 0.9974 - val_loss: 0.1374 - val_dice_coef: 0.9837\n",
      "Epoch 7/10\n",
      "25/25 [==============================] - 90s 4s/step - loss: 0.0468 - dice_coef: 0.9978 - val_loss: 0.1093 - val_dice_coef: 0.9893\n",
      "Epoch 8/10\n",
      "25/25 [==============================] - 92s 4s/step - loss: 0.0418 - dice_coef: 0.9982 - val_loss: 0.0859 - val_dice_coef: 0.9932\n",
      "Epoch 9/10\n",
      "25/25 [==============================] - 93s 4s/step - loss: 0.0393 - dice_coef: 0.9984 - val_loss: 0.0699 - val_dice_coef: 0.9954\n",
      "Epoch 10/10\n",
      "25/25 [==============================] - 93s 4s/step - loss: 0.0349 - dice_coef: 0.9988 - val_loss: 0.0621 - val_dice_coef: 0.9963\n"
     ]
    }
   ],
   "source": [
    "# fit model\n",
    "train_steps=np.ceil(float(train_df.shape[0]) / float(batch_size)).astype(int)\n",
    "validate_steps=np.ceil(float(validate_df.shape[0]) / float(batch_size)).astype(int)\n",
    "\n",
    "history = model.fit_generator(\n",
    "    train_generator, \n",
    "    steps_per_epoch=train_steps,\n",
    "    validation_data=validate_generator,\n",
    "    callbacks=[checkpoint],\n",
    "    validation_steps=validate_steps,\n",
    "    epochs=epochs\n",
    ")"
   ]
  },
  {
   "cell_type": "code",
   "execution_count": 16,
   "id": "babcde20",
   "metadata": {
    "execution": {
     "iopub.execute_input": "2022-08-23T10:29:18.729739Z",
     "iopub.status.busy": "2022-08-23T10:29:18.729366Z",
     "iopub.status.idle": "2022-08-23T10:29:18.740727Z",
     "shell.execute_reply": "2022-08-23T10:29:18.739597Z"
    },
    "papermill": {
     "duration": 0.0478,
     "end_time": "2022-08-23T10:29:18.743619",
     "exception": false,
     "start_time": "2022-08-23T10:29:18.695819",
     "status": "completed"
    },
    "tags": []
   },
   "outputs": [],
   "source": [
    "def get_test_image(image_name):\n",
    "    img = imread('../input/airbus-ship-detection/test_v2/'+image_name)[:,:,:IMG_CHANNELS]\n",
    "    img = resize(img, (TARGET_WIDTH, TARGET_HEIGHT), mode='constant', preserve_range=True)\n",
    "    return img\n",
    "    \n",
    "def create_test_generator(precess_batch_size):\n",
    "    while True:\n",
    "        for k, ix in df_sub.groupby(np.arange(df_sub.shape[0])//precess_batch_size):\n",
    "            imgs = []\n",
    "            labels = []\n",
    "            for index, row in ix.iterrows():\n",
    "                original_img = get_test_image(row.ImageId) / 255.0\n",
    "                imgs.append(original_img)\n",
    "                \n",
    "            imgs = np.array(imgs)\n",
    "            yield imgs"
   ]
  },
  {
   "cell_type": "code",
   "execution_count": 17,
   "id": "47976283",
   "metadata": {
    "execution": {
     "iopub.execute_input": "2022-08-23T10:29:18.804754Z",
     "iopub.status.busy": "2022-08-23T10:29:18.804399Z",
     "iopub.status.idle": "2022-08-23T10:29:18.808711Z",
     "shell.execute_reply": "2022-08-23T10:29:18.807849Z"
    },
    "papermill": {
     "duration": 0.038327,
     "end_time": "2022-08-23T10:29:18.812605",
     "exception": false,
     "start_time": "2022-08-23T10:29:18.774278",
     "status": "completed"
    },
    "tags": []
   },
   "outputs": [],
   "source": [
    "test_generator = create_test_generator(batch_size)"
   ]
  },
  {
   "cell_type": "markdown",
   "id": "536ff9b3",
   "metadata": {
    "papermill": {
     "duration": 0.029159,
     "end_time": "2022-08-23T10:29:18.870426",
     "exception": false,
     "start_time": "2022-08-23T10:29:18.841267",
     "status": "completed"
    },
    "tags": []
   },
   "source": [
    "# Predict"
   ]
  },
  {
   "cell_type": "code",
   "execution_count": 18,
   "id": "fee5922e",
   "metadata": {
    "execution": {
     "iopub.execute_input": "2022-08-23T10:29:18.929224Z",
     "iopub.status.busy": "2022-08-23T10:29:18.928886Z",
     "iopub.status.idle": "2022-08-23T10:29:32.083579Z",
     "shell.execute_reply": "2022-08-23T10:29:32.082550Z"
    },
    "papermill": {
     "duration": 13.187405,
     "end_time": "2022-08-23T10:29:32.086440",
     "exception": false,
     "start_time": "2022-08-23T10:29:18.899035",
     "status": "completed"
    },
    "tags": []
   },
   "outputs": [],
   "source": [
    "test_steps = np.ceil(float(df_sub.shape[0]) / float(batch_size)).astype(int)\n",
    "predict_mask = model.predict_generator(test_generator, steps=test_steps)"
   ]
  },
  {
   "cell_type": "code",
   "execution_count": 19,
   "id": "54f2742d",
   "metadata": {
    "execution": {
     "iopub.execute_input": "2022-08-23T10:29:32.128142Z",
     "iopub.status.busy": "2022-08-23T10:29:32.127817Z",
     "iopub.status.idle": "2022-08-23T10:29:32.135300Z",
     "shell.execute_reply": "2022-08-23T10:29:32.134387Z"
    },
    "papermill": {
     "duration": 0.030002,
     "end_time": "2022-08-23T10:29:32.137270",
     "exception": false,
     "start_time": "2022-08-23T10:29:32.107268",
     "status": "completed"
    },
    "tags": []
   },
   "outputs": [
    {
     "data": {
      "text/plain": [
       "numpy.ndarray"
      ]
     },
     "execution_count": 19,
     "metadata": {},
     "output_type": "execute_result"
    }
   ],
   "source": [
    "type(predict_mask)"
   ]
  },
  {
   "cell_type": "code",
   "execution_count": 20,
   "id": "745c92b0",
   "metadata": {
    "execution": {
     "iopub.execute_input": "2022-08-23T10:29:32.177132Z",
     "iopub.status.busy": "2022-08-23T10:29:32.176223Z",
     "iopub.status.idle": "2022-08-23T10:29:37.047192Z",
     "shell.execute_reply": "2022-08-23T10:29:37.046262Z"
    },
    "papermill": {
     "duration": 4.894335,
     "end_time": "2022-08-23T10:29:37.050657",
     "exception": false,
     "start_time": "2022-08-23T10:29:32.156322",
     "status": "completed"
    },
    "tags": []
   },
   "outputs": [
    {
     "data": {
      "image/png": "[encoded data removed]",
      "text/plain": [
       "<Figure size 1152x576 with 40 Axes>"
      ]
     },
     "metadata": {
      "needs_background": "light"
     },
     "output_type": "display_data"
    }
   ],
   "source": [
    "fig=plt.figure(figsize=(16, 8))\n",
    "for index, row in df_sub.head(20).iterrows():\n",
    "    origin_image = imread('../input/airbus-ship-detection/test_v2/'+row.ImageId)\n",
    "    predicted_image = resize(predict_mask[index], image_shape).reshape(IMG_WIDTH, IMG_HEIGHT) * 255\n",
    "    plt.subplot(10, 4, 2*index+1)\n",
    "    plt.imshow(origin_image)\n",
    "    plt.subplot(10, 4, 2*index+2)\n",
    "    plt.imshow(predicted_image)"
   ]
  },
  {
   "cell_type": "code",
   "execution_count": 21,
   "id": "864586d9",
   "metadata": {
    "execution": {
     "iopub.execute_input": "2022-08-23T10:29:37.092387Z",
     "iopub.status.busy": "2022-08-23T10:29:37.092086Z",
     "iopub.status.idle": "2022-08-23T10:29:37.097849Z",
     "shell.execute_reply": "2022-08-23T10:29:37.096960Z"
    },
    "papermill": {
     "duration": 0.029259,
     "end_time": "2022-08-23T10:29:37.100175",
     "exception": false,
     "start_time": "2022-08-23T10:29:37.070916",
     "status": "completed"
    },
    "tags": []
   },
   "outputs": [
    {
     "data": {
      "text/plain": [
       "(100, 128, 128, 1)"
      ]
     },
     "execution_count": 21,
     "metadata": {},
     "output_type": "execute_result"
    }
   ],
   "source": [
    "predict_mask.shape"
   ]
  },
  {
   "cell_type": "code",
   "execution_count": 22,
   "id": "dc2251ed",
   "metadata": {
    "execution": {
     "iopub.execute_input": "2022-08-23T10:29:37.143715Z",
     "iopub.status.busy": "2022-08-23T10:29:37.143439Z",
     "iopub.status.idle": "2022-08-23T10:29:37.361924Z",
     "shell.execute_reply": "2022-08-23T10:29:37.360841Z"
    },
    "papermill": {
     "duration": 0.242769,
     "end_time": "2022-08-23T10:29:37.364279",
     "exception": false,
     "start_time": "2022-08-23T10:29:37.121510",
     "status": "completed"
    },
    "tags": []
   },
   "outputs": [
    {
     "data": {
      "image/png": "[encoded data removed]",
      "text/plain": [
       "<Figure size 1080x360 with 1 Axes>"
      ]
     },
     "metadata": {
      "needs_background": "light"
     },
     "output_type": "display_data"
    }
   ],
   "source": [
    "# PLOT TRAINING\n",
    "plt.figure(figsize=(15,5))\n",
    "plt.plot(range(history.epoch[-1]+1),history.history['val_dice_coef'],label='Val_dice_coef')\n",
    "plt.plot(range(history.epoch[-1]+1),history.history['dice_coef'],label='Trn_dice_coef')\n",
    "plt.title('DICE'); plt.xlabel('Epoch'); plt.ylabel('dice_coef');plt.legend(); \n",
    "plt.show()"
   ]
  }
 ],
 "metadata": {
  "kernelspec": {
   "display_name": "Python 3",
   "language": "python",
   "name": "python3"
  },
  "language_info": {
   "codemirror_mode": {
    "name": "ipython",
    "version": 3
   },
   "file_extension": ".py",
   "mimetype": "text/x-python",
   "name": "python",
   "nbconvert_exporter": "python",
   "pygments_lexer": "ipython3",
   "version": "3.7.12"
  },
  "papermill": {
   "default_parameters": {},
   "duration": 1002.646828,
   "end_time": "2022-08-23T10:29:40.593133",
   "environment_variables": {},
   "exception": null,
   "input_path": "__notebook__.ipynb",
   "output_path": "__notebook__.ipynb",
   "parameters": {},
   "start_time": "2022-08-23T10:12:57.946305",
   "version": "2.3.4"
  }
 },
 "nbformat": 4,
 "nbformat_minor": 5
}
